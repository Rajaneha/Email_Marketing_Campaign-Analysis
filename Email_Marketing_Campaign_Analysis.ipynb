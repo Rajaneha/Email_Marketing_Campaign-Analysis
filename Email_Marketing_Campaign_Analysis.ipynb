{
  "nbformat": 4,
  "nbformat_minor": 0,
  "metadata": {
    "colab": {
      "provenance": []
    },
    "kernelspec": {
      "name": "python3",
      "display_name": "Python 3"
    },
    "language_info": {
      "name": "python"
    }
  },
  "cells": [
    {
      "cell_type": "code",
      "execution_count": 48,
      "metadata": {
        "id": "mYeybJD4dxAc"
      },
      "outputs": [],
      "source": [
        "import pandas as pd\n",
        "import numpy as np\n",
        "import matplotlib.pyplot as plt\n",
        "import seaborn as sns\n",
        "from scipy.stats import norm\n",
        "from sklearn.model_selection import train_test_split, cross_val_score, GridSearchCV\n",
        "from sklearn.preprocessing import OneHotEncoder\n",
        "from sklearn.compose import ColumnTransformer\n",
        "from sklearn.pipeline import Pipeline\n",
        "from sklearn.linear_model import LogisticRegression\n",
        "from sklearn.ensemble import RandomForestClassifier, GradientBoostingClassifier\n",
        "from sklearn.metrics import classification_report, confusion_matrix, roc_auc_score, accuracy_score\n",
        "import warnings\n",
        "warnings.filterwarnings('ignore')"
      ]
    },
    {
      "cell_type": "code",
      "source": [
        "np.random.seed(42)"
      ],
      "metadata": {
        "id": "rauefjgPd8LN"
      },
      "execution_count": 3,
      "outputs": []
    },
    {
      "cell_type": "code",
      "source": [
        "email_table = pd.read_csv('email_table.csv')\n",
        "email_opened_table = pd.read_csv('email_opened_table.csv')\n",
        "link_clicked_table = pd.read_csv('link_clicked_table.csv')"
      ],
      "metadata": {
        "id": "wbEzuDweeAax"
      },
      "execution_count": 6,
      "outputs": []
    },
    {
      "cell_type": "code",
      "source": [
        "print(\"Email table shape:\", email_table.shape)\n",
        "print(\"Email opened table shape:\", email_opened_table.shape)\n",
        "print(\"Link clicked table shape:\", link_clicked_table.shape)"
      ],
      "metadata": {
        "colab": {
          "base_uri": "https://localhost:8080/"
        },
        "id": "ZQcAjmNreC5u",
        "outputId": "75280372-cc43-4161-b46e-ff937a0c147e"
      },
      "execution_count": 7,
      "outputs": [
        {
          "output_type": "stream",
          "name": "stdout",
          "text": [
            "Email table shape: (100000, 7)\n",
            "Email opened table shape: (10345, 1)\n",
            "Link clicked table shape: (2119, 1)\n"
          ]
        }
      ]
    },
    {
      "cell_type": "code",
      "source": [
        "print(email_table.info())"
      ],
      "metadata": {
        "colab": {
          "base_uri": "https://localhost:8080/"
        },
        "id": "9M0cQxISeL9a",
        "outputId": "03f97581-e543-463b-eca3-dde609cc0ca9"
      },
      "execution_count": 8,
      "outputs": [
        {
          "output_type": "stream",
          "name": "stdout",
          "text": [
            "<class 'pandas.core.frame.DataFrame'>\n",
            "RangeIndex: 100000 entries, 0 to 99999\n",
            "Data columns (total 7 columns):\n",
            " #   Column               Non-Null Count   Dtype \n",
            "---  ------               --------------   ----- \n",
            " 0   email_id             100000 non-null  int64 \n",
            " 1   email_text           100000 non-null  object\n",
            " 2   email_version        100000 non-null  object\n",
            " 3   hour                 100000 non-null  int64 \n",
            " 4   weekday              100000 non-null  object\n",
            " 5   user_country         100000 non-null  object\n",
            " 6   user_past_purchases  100000 non-null  int64 \n",
            "dtypes: int64(3), object(4)\n",
            "memory usage: 5.3+ MB\n",
            "None\n"
          ]
        }
      ]
    },
    {
      "cell_type": "code",
      "source": [
        "print(email_table.isnull().sum())"
      ],
      "metadata": {
        "colab": {
          "base_uri": "https://localhost:8080/"
        },
        "id": "JTRQjERLeFtL",
        "outputId": "09e9cdc3-ea7e-42a7-c024-7144d54763d4"
      },
      "execution_count": 9,
      "outputs": [
        {
          "output_type": "stream",
          "name": "stdout",
          "text": [
            "email_id               0\n",
            "email_text             0\n",
            "email_version          0\n",
            "hour                   0\n",
            "weekday                0\n",
            "user_country           0\n",
            "user_past_purchases    0\n",
            "dtype: int64\n"
          ]
        }
      ]
    },
    {
      "cell_type": "code",
      "source": [
        "email_table.columns = email_table.columns.str.strip('\"')"
      ],
      "metadata": {
        "id": "qK4xU6gNeeJp"
      },
      "execution_count": 10,
      "outputs": []
    },
    {
      "cell_type": "code",
      "source": [
        "email_table['opened'] = email_table['email_id'].isin(email_opened_table['email_id']).astype(int)\n",
        "email_table['clicked'] = email_table['email_id'].isin(link_clicked_table['email_id']).astype(int)"
      ],
      "metadata": {
        "id": "h0x36JzceS16"
      },
      "execution_count": 11,
      "outputs": []
    },
    {
      "cell_type": "code",
      "source": [
        "email_table['is_weekend'] = email_table['weekday'].isin(['Saturday', 'Sunday'])\n",
        "email_table['hour_bucket'] = pd.cut(email_table['hour'], bins=[0,6,12,18,24], labels=['Night', 'Morning', 'Afternoon', 'Evening'])"
      ],
      "metadata": {
        "id": "49zeay9jexHZ"
      },
      "execution_count": 12,
      "outputs": []
    },
    {
      "cell_type": "code",
      "source": [
        "total_emails = len(email_table)\n",
        "opened_emails = email_table['opened'].sum()\n",
        "clicked_emails = email_table['clicked'].sum()\n",
        "\n",
        "open_rate = opened_emails / total_emails * 100\n",
        "click_rate = clicked_emails / total_emails * 100\n",
        "click_to_open_rate = clicked_emails / opened_emails * 100 if opened_emails > 0 else 0\n",
        "\n",
        "print(f\"\\nEmail Campaign Performance:\")\n",
        "print(f\"Total emails sent: {total_emails}\")\n",
        "print(f\"Number of emails opened: {opened_emails} ({open_rate:.2f}%)\")\n",
        "print(f\"Number of links clicked: {clicked_emails} ({click_rate:.2f}%)\")\n",
        "print(f\"Click-to-open rate: {click_to_open_rate:.2f}%\")"
      ],
      "metadata": {
        "colab": {
          "base_uri": "https://localhost:8080/"
        },
        "id": "qfPQa-o6e4Or",
        "outputId": "5c99e911-3074-4956-82bd-84c0aacc2c8c"
      },
      "execution_count": 14,
      "outputs": [
        {
          "output_type": "stream",
          "name": "stdout",
          "text": [
            "\n",
            "Email Campaign Performance:\n",
            "Total emails sent: 100000\n",
            "Number of emails opened: 10345 (10.35%)\n",
            "Number of links clicked: 2119 (2.12%)\n",
            "Click-to-open rate: 20.48%\n"
          ]
        }
      ]
    },
    {
      "cell_type": "code",
      "source": [
        "df_analysis = email_table.copy()\n",
        "\n",
        "#categorical variables to category type\n",
        "categorical_cols = ['email_text', 'email_version', 'weekday', 'user_country']\n",
        "for col in categorical_cols:\n",
        "    df_analysis[col] = df_analysis[col].astype('category')\n",
        "\n",
        "#Basic statS\n",
        "print(\"\\nSummary Statistics:\")\n",
        "print(df_analysis.describe(include='all'))"
      ],
      "metadata": {
        "colab": {
          "base_uri": "https://localhost:8080/"
        },
        "id": "80Gf8rLVfRIN",
        "outputId": "8831b386-a541-411c-d94c-06a282e2a0c0"
      },
      "execution_count": 15,
      "outputs": [
        {
          "output_type": "stream",
          "name": "stdout",
          "text": [
            "\n",
            "Summary Statistics:\n",
            "             email_id  email_text email_version           hour   weekday  \\\n",
            "count   100000.000000      100000        100000  100000.000000    100000   \n",
            "unique            NaN           2             2            NaN         7   \n",
            "top               NaN  long_email       generic            NaN  Saturday   \n",
            "freq              NaN       50276         50209            NaN     14569   \n",
            "mean    498690.196160         NaN           NaN       9.059300       NaN   \n",
            "std     289230.727534         NaN           NaN       4.439637       NaN   \n",
            "min          8.000000         NaN           NaN       1.000000       NaN   \n",
            "25%     246708.250000         NaN           NaN       6.000000       NaN   \n",
            "50%     498447.000000         NaN           NaN       9.000000       NaN   \n",
            "75%     749942.750000         NaN           NaN      12.000000       NaN   \n",
            "max     999998.000000         NaN           NaN      24.000000       NaN   \n",
            "\n",
            "       user_country  user_past_purchases         opened        clicked  \\\n",
            "count        100000         100000.00000  100000.000000  100000.000000   \n",
            "unique            4                  NaN            NaN            NaN   \n",
            "top              US                  NaN            NaN            NaN   \n",
            "freq          60099                  NaN            NaN            NaN   \n",
            "mean            NaN              3.87845       0.103450       0.021190   \n",
            "std             NaN              3.19611       0.304547       0.144018   \n",
            "min             NaN              0.00000       0.000000       0.000000   \n",
            "25%             NaN              1.00000       0.000000       0.000000   \n",
            "50%             NaN              3.00000       0.000000       0.000000   \n",
            "75%             NaN              6.00000       0.000000       0.000000   \n",
            "max             NaN             22.00000       1.000000       1.000000   \n",
            "\n",
            "       is_weekend hour_bucket  \n",
            "count      100000      100000  \n",
            "unique          2           4  \n",
            "top         False     Morning  \n",
            "freq        71044       47302  \n",
            "mean          NaN         NaN  \n",
            "std           NaN         NaN  \n",
            "min           NaN         NaN  \n",
            "25%           NaN         NaN  \n",
            "50%           NaN         NaN  \n",
            "75%           NaN         NaN  \n",
            "max           NaN         NaN  \n"
          ]
        }
      ]
    },
    {
      "cell_type": "markdown",
      "source": [
        "# **Visualize**"
      ],
      "metadata": {
        "id": "D6xhmUnxkeaD"
      }
    },
    {
      "cell_type": "code",
      "source": [
        "plt.figure(figsize=(15, 10))\n",
        "\n",
        "plt.subplot(2, 3, 1)\n",
        "sns.barplot(x='email_text', y='opened', data=df_analysis)\n",
        "plt.title('Open Rate by Email Text Length')\n",
        "plt.ylabel('Open Rate')\n",
        "\n",
        "plt.subplot(2, 3, 2)\n",
        "sns.barplot(x='email_text', y='clicked', data=df_analysis)\n",
        "plt.title('Click Rate by Email Text Length')\n",
        "plt.ylabel('Click Rate')\n",
        "\n",
        "plt.subplot(2, 3, 3)\n",
        "sns.barplot(x='email_version', y='opened', data=df_analysis)\n",
        "plt.title('Open Rate by Email Version')\n",
        "plt.ylabel('Open Rate')\n",
        "\n",
        "plt.subplot(2, 3, 4)\n",
        "sns.barplot(x='email_version', y='clicked', data=df_analysis)\n",
        "plt.title('Click Rate by Email Version')\n",
        "plt.ylabel('Click Rate')\n",
        "\n",
        "plt.subplot(2, 3, 5)\n",
        "weekday_order = ['Monday', 'Tuesday', 'Wednesday', 'Thursday', 'Friday', 'Saturday', 'Sunday']\n",
        "weekday_open_rates = df_analysis.groupby('weekday')['opened'].mean().reindex(weekday_order)\n",
        "weekday_open_rates.plot(kind='bar')\n",
        "plt.title('Open Rate by Weekday')\n",
        "plt.ylabel('Open Rate')\n",
        "\n",
        "plt.subplot(2, 3, 6)\n",
        "hour_click_rates = df_analysis.groupby('hour')['clicked'].mean()\n",
        "hour_click_rates.plot(kind='line', marker='o')\n",
        "plt.title('Click Rate by Hour of Day')\n",
        "plt.xlabel('Hour')\n",
        "plt.ylabel('Click Rate')\n",
        "\n",
        "plt.tight_layout()\n",
        "plt.savefig('email_campaign_eda.png')\n",
        "plt.close()"
      ],
      "metadata": {
        "id": "P0sZgraWfxon"
      },
      "execution_count": 27,
      "outputs": []
    },
    {
      "cell_type": "code",
      "source": [
        "plt.figure(figsize=(14, 6))\n",
        "\n",
        "plt.subplot(1, 2, 1)\n",
        "country_click_rates = df_analysis.groupby('user_country')['clicked'].mean().sort_values(ascending=False)\n",
        "country_click_rates.plot(kind='bar')\n",
        "plt.title('Click Rate by Country')\n",
        "plt.ylabel('Click Rate')\n",
        "plt.xticks(rotation=45)\n",
        "\n",
        "plt.subplot(1, 2, 2)\n",
        "df_analysis['purchase_category'] = pd.cut(df_analysis['user_past_purchases'],\n",
        "                                         bins=[0, 1, 3, 5, 10, float('inf')],\n",
        "                                         labels=['0', '1-3', '4-5', '6-10', '10+'])\n",
        "purchase_click_rates = df_analysis.groupby('purchase_category')['clicked'].mean()\n",
        "purchase_click_rates.plot(kind='bar')\n",
        "plt.title('Click Rate by Past Purchases')\n",
        "plt.ylabel('Click Rate')\n",
        "\n",
        "plt.tight_layout()\n",
        "plt.savefig('email_campaign_eda_2.png')\n",
        "plt.close()\n"
      ],
      "metadata": {
        "id": "6vcutlcDgr0c"
      },
      "execution_count": 29,
      "outputs": []
    },
    {
      "cell_type": "markdown",
      "source": [
        "#**Segment Analysis**"
      ],
      "metadata": {
        "id": "BL7zqNRNg21g"
      }
    },
    {
      "cell_type": "code",
      "source": [
        "df_analysis['hour_segment'] = pd.cut(df_analysis['hour'],\n",
        "                                    bins=[0, 6, 12, 18, 24],\n",
        "                                    labels=['Night (0-6)', 'Morning (6-12)', 'Afternoon (12-18)', 'Evening (18-24)'])"
      ],
      "metadata": {
        "id": "u5vPiS-9g6q5"
      },
      "execution_count": 30,
      "outputs": []
    },
    {
      "cell_type": "code",
      "source": [
        "plt.figure(figsize=(10, 6))\n",
        "heatmap_data = df_analysis.pivot_table(values='clicked', index='weekday',\n",
        "                                       columns='hour_segment', aggfunc='mean')\n",
        "sns.heatmap(heatmap_data, annot=True, cmap='YlGnBu', fmt='.2%')\n",
        "plt.title('Click Rate by Weekday and Time of Day')\n",
        "plt.tight_layout()\n",
        "plt.savefig('weekday_hour_heatmap.png')\n",
        "plt.close()"
      ],
      "metadata": {
        "id": "ov0CQ-YFhFoq"
      },
      "execution_count": 31,
      "outputs": []
    },
    {
      "cell_type": "code",
      "source": [
        "plt.figure(figsize=(10, 6))\n",
        "segment_data = df_analysis.pivot_table(values='clicked', index='email_version',\n",
        "                                      columns='email_text', aggfunc='mean')\n",
        "sns.heatmap(segment_data, annot=True, cmap='YlGnBu', fmt='.2%')\n",
        "plt.title('Click Rate by Email Version and Text Length')\n",
        "plt.tight_layout()\n",
        "plt.savefig('version_text_heatmap.png')\n",
        "plt.close()"
      ],
      "metadata": {
        "id": "LRH2hPDehJ5g"
      },
      "execution_count": 32,
      "outputs": []
    },
    {
      "cell_type": "markdown",
      "source": [
        "# **Model Building**"
      ],
      "metadata": {
        "id": "ww8QWGnAhSR-"
      }
    },
    {
      "cell_type": "code",
      "source": [
        "X = df_analysis.drop(['email_id', 'opened', 'clicked', 'purchase_category', 'hour_segment'], axis=1)\n",
        "y = df_analysis['clicked']  # Target is whether the link was clicked"
      ],
      "metadata": {
        "id": "uM6tq2N-hUuz"
      },
      "execution_count": 33,
      "outputs": []
    },
    {
      "cell_type": "code",
      "source": [
        "X_train, X_test, y_train, y_test = train_test_split(X, y, test_size=0.3, random_state=42, stratify=y)\n",
        "\n",
        "\"Defining categorical and numerical features\"\n",
        "categorical_features = ['email_text', 'email_version', 'weekday', 'user_country']\n",
        "numerical_features = ['hour', 'user_past_purchases']\n",
        "\n",
        "\n",
        "\"Creating a column transformer for preprocessing\"\n",
        "preprocessor = ColumnTransformer(\n",
        "    transformers=[\n",
        "        ('cat', OneHotEncoder(handle_unknown='ignore'), categorical_features),\n",
        "        ('num', 'passthrough', numerical_features)\n",
        "    ])"
      ],
      "metadata": {
        "id": "THmAcrJPhaH3"
      },
      "execution_count": 35,
      "outputs": []
    },
    {
      "cell_type": "code",
      "source": [
        "log_reg_pipeline = Pipeline([\n",
        "    ('preprocessor', preprocessor),\n",
        "    ('classifier', LogisticRegression(max_iter=1000, random_state=42))\n",
        "])  #Logistic Regression"
      ],
      "metadata": {
        "id": "kFzcI9_2hmNq"
      },
      "execution_count": 36,
      "outputs": []
    },
    {
      "cell_type": "code",
      "source": [
        "rf_pipeline = Pipeline([\n",
        "    ('preprocessor', preprocessor),\n",
        "    ('classifier', RandomForestClassifier(random_state=42))\n",
        "])  #Random Forest"
      ],
      "metadata": {
        "id": "nAHQ_QfohrQQ"
      },
      "execution_count": 37,
      "outputs": []
    },
    {
      "cell_type": "code",
      "source": [
        "gb_pipeline = Pipeline([\n",
        "    ('preprocessor', preprocessor),\n",
        "    ('classifier', GradientBoostingClassifier(random_state=42))\n",
        "])  #Gradient Boosting"
      ],
      "metadata": {
        "id": "X4g6dDCRhvXe"
      },
      "execution_count": 38,
      "outputs": []
    },
    {
      "cell_type": "code",
      "source": [
        "models = {\n",
        "    'Logistic Regression': log_reg_pipeline,\n",
        "    'Random Forest': rf_pipeline,\n",
        "    'Gradient Boosting': gb_pipeline\n",
        "}\n",
        "\n",
        "print(\"\\nModel Cross-Validation Results:\")\n",
        "for name, model in models.items():\n",
        "    cv_scores = cross_val_score(model, X_train, y_train, cv=5, scoring='roc_auc')\n",
        "    print(f\"{name} - Mean ROC AUC: {cv_scores.mean():.4f} (±{cv_scores.std():.4f})\")"
      ],
      "metadata": {
        "colab": {
          "base_uri": "https://localhost:8080/"
        },
        "id": "IGgWgo-lhzie",
        "outputId": "94fc879d-ac1a-4c04-d8c0-17b68d7017d3"
      },
      "execution_count": 40,
      "outputs": [
        {
          "output_type": "stream",
          "name": "stdout",
          "text": [
            "\n",
            "Model Cross-Validation Results:\n",
            "Logistic Regression - Mean ROC AUC: 0.7341 (±0.0127)\n",
            "Random Forest - Mean ROC AUC: 0.5795 (±0.0139)\n",
            "Gradient Boosting - Mean ROC AUC: 0.7408 (±0.0128)\n"
          ]
        }
      ]
    },
    {
      "cell_type": "code",
      "source": [
        "# Based on the cross-validation results, tuned the Gradient Boosting model\n",
        "param_grid = {\n",
        "    'classifier__n_estimators': [100],\n",
        "    'classifier__learning_rate': [0.1],\n",
        "    'classifier__max_depth': [3]\n",
        "}\n",
        "\n",
        "grid_search = GridSearchCV(gb_pipeline, param_grid, cv=5, scoring='roc_auc', n_jobs=-1)\n",
        "grid_search.fit(X_train, y_train)\n",
        "\n",
        "print(\"\\nBest Hyperparameters:\", grid_search.best_params_)\n",
        "print(\"Best CV Score:\", grid_search.best_score_)"
      ],
      "metadata": {
        "colab": {
          "base_uri": "https://localhost:8080/"
        },
        "id": "1kVmEgL3h7hY",
        "outputId": "c4bf5080-d84d-48f4-82f8-b1a9aa2b5616"
      },
      "execution_count": 42,
      "outputs": [
        {
          "output_type": "stream",
          "name": "stdout",
          "text": [
            "\n",
            "Best Hyperparameters: {'classifier__learning_rate': 0.1, 'classifier__max_depth': 3, 'classifier__n_estimators': 100}\n",
            "Best CV Score: 0.7407673832454572\n"
          ]
        }
      ]
    },
    {
      "cell_type": "code",
      "source": [
        "best_model = grid_search.best_estimator_\n",
        "y_pred = best_model.predict(X_test)\n",
        "y_pred_proba = best_model.predict_proba(X_test)[:, 1]\n",
        "\n",
        "# Calculating performance metrics\n",
        "print(\"\\nTest Set Performance:\")\n",
        "print(\"Accuracy:\", accuracy_score(y_test, y_pred))\n",
        "print(\"ROC AUC:\", roc_auc_score(y_test, y_pred_proba))\n",
        "print(\"\\nClassification Report:\")\n",
        "print(classification_report(y_test, y_pred))"
      ],
      "metadata": {
        "colab": {
          "base_uri": "https://localhost:8080/"
        },
        "id": "IdzvYi6kiAY2",
        "outputId": "3db09cf1-81dd-4047-cbe9-2ff6658e814f"
      },
      "execution_count": 43,
      "outputs": [
        {
          "output_type": "stream",
          "name": "stdout",
          "text": [
            "\n",
            "Test Set Performance:\n",
            "Accuracy: 0.9787333333333333\n",
            "ROC AUC: 0.7466435979452014\n",
            "\n",
            "Classification Report:\n",
            "              precision    recall  f1-score   support\n",
            "\n",
            "           0       0.98      1.00      0.99     29364\n",
            "           1       0.00      0.00      0.00       636\n",
            "\n",
            "    accuracy                           0.98     30000\n",
            "   macro avg       0.49      0.50      0.49     30000\n",
            "weighted avg       0.96      0.98      0.97     30000\n",
            "\n"
          ]
        }
      ]
    },
    {
      "cell_type": "code",
      "source": [
        "feature_names = []\n",
        "ohe = best_model.named_steps['preprocessor'].transformers_[0][1]\n",
        "cat_feature_names = list(ohe.get_feature_names_out(categorical_features))\n",
        "feature_names.extend(cat_feature_names)\n",
        "feature_names.extend(numerical_features)\n",
        "\n",
        "# feature importances\n",
        "importances = best_model.named_steps['classifier'].feature_importances_\n",
        "\n",
        "# A DataFrame for feature importance\n",
        "feature_importance = pd.DataFrame({\n",
        "    'Feature': feature_names,\n",
        "    'Importance': importances\n",
        "})\n",
        "\n",
        "# Sorting by importance\n",
        "feature_importance = feature_importance.sort_values('Importance', ascending=False).head(15)\n",
        "\n",
        "# Plotting\n",
        "plt.figure(figsize=(12, 8))\n",
        "sns.barplot(x='Importance', y='Feature', data=feature_importance)\n",
        "plt.title('Top 15 Feature Importances')\n",
        "plt.tight_layout()\n",
        "plt.savefig('feature_importance.png')\n",
        "plt.close()"
      ],
      "metadata": {
        "id": "xyj2p12miJr_"
      },
      "execution_count": 44,
      "outputs": []
    },
    {
      "cell_type": "code",
      "source": [
        "baseline_click_rate = y.mean()\n",
        "\n",
        "#predicted probabilities for the entire dataset\n",
        "df_analysis['click_probability'] = best_model.predict_proba(X)[:, 1]\n",
        "\n",
        "#simulate targeting only users with high predicted click probability\n",
        "threshold = df_analysis['click_probability'].quantile(0.7)  #Targeting top 30%\n",
        "targeted_users = df_analysis[df_analysis['click_probability'] >= threshold]\n",
        "expected_click_rate = targeted_users['clicked'].mean()\n",
        "\n",
        "print(\"\\nExpected Improvement:\")\n",
        "print(f\"Baseline Click Rate: {baseline_click_rate:.4f}\")\n",
        "print(f\"Expected Click Rate with Model: {expected_click_rate:.4f}\")\n",
        "print(f\"Relative Improvement: {((expected_click_rate - baseline_click_rate) / baseline_click_rate * 100):.2f}%\")\n"
      ],
      "metadata": {
        "colab": {
          "base_uri": "https://localhost:8080/"
        },
        "id": "mcl-6tUHigrM",
        "outputId": "7afbfcaf-98f1-4f5a-89d6-38aec7cca9ab"
      },
      "execution_count": 45,
      "outputs": [
        {
          "output_type": "stream",
          "name": "stdout",
          "text": [
            "\n",
            "Expected Improvement:\n",
            "Baseline Click Rate: 0.0212\n",
            "Expected Click Rate with Model: 0.0463\n",
            "Relative Improvement: 118.73%\n"
          ]
        }
      ]
    },
    {
      "cell_type": "code",
      "source": [
        "def simulate_ab_test(baseline_rate, expected_rate, sample_size=5000, n_simulations=1000):\n",
        "    \"\"\"Simulate A/B test results\"\"\"\n",
        "    p_values = []\n",
        "    for _ in range(n_simulations):\n",
        "        control = np.random.binomial(1, baseline_rate, sample_size)\n",
        "        treatment = np.random.binomial(1, expected_rate, sample_size)\n",
        "\n",
        "        # Calc p-value using chi-square test\n",
        "        contingency_table = np.array([\n",
        "            [sum(control), sample_size - sum(control)],\n",
        "            [sum(treatment), sample_size - sum(treatment)]\n",
        "        ])\n",
        "\n",
        "        from scipy.stats import chi2_contingency\n",
        "        _, p_value, _, _ = chi2_contingency(contingency_table)\n",
        "        p_values.append(p_value)\n",
        "\n",
        "    power = sum(np.array(p_values) < 0.05) / len(p_values)\n",
        "    return power\n",
        "\n",
        "power = simulate_ab_test(baseline_click_rate, expected_click_rate)\n",
        "print(f\"\\nA/B Test Power (sample size 5000 per group): {power:.4f}\")"
      ],
      "metadata": {
        "colab": {
          "base_uri": "https://localhost:8080/"
        },
        "id": "0Jlo6jxwiu5g",
        "outputId": "202e064c-6a43-4ee5-eab2-7179d345fa9f"
      },
      "execution_count": 46,
      "outputs": [
        {
          "output_type": "stream",
          "name": "stdout",
          "text": [
            "\n",
            "A/B Test Power (sample size 5000 per group): 1.0000\n"
          ]
        }
      ]
    },
    {
      "cell_type": "code",
      "source": [
        "def calculate_sample_size(p1, p2, power=0.8, alpha=0.05):\n",
        "    \"\"\"Calculate required sample size for A/B test\"\"\"\n",
        "    #standard normal deviates for alpha and beta\n",
        "    z_alpha = norm.ppf(1 - alpha/2)\n",
        "    z_beta = norm.ppf(power)\n",
        "\n",
        "    p_pooled = (p1 + p2) / 2\n",
        "\n",
        "    #Calc  sample size per group\n",
        "    n = ((z_alpha + z_beta)**2 * p_pooled * (1 - p_pooled)) / ((p1 - p2)**2)\n",
        "\n",
        "    return int(np.ceil(n))\n",
        "\n",
        "sample_size = calculate_sample_size(baseline_click_rate, expected_click_rate)\n",
        "print(f\"Required sample size per group for 80% power: {sample_size}\")\n"
      ],
      "metadata": {
        "colab": {
          "base_uri": "https://localhost:8080/"
        },
        "id": "dA1o9M2Ei5il",
        "outputId": "4b7afa7e-527f-4504-a0c5-936a29bd4ec9"
      },
      "execution_count": 49,
      "outputs": [
        {
          "output_type": "stream",
          "name": "stdout",
          "text": [
            "Required sample size per group for 80% power: 405\n"
          ]
        }
      ]
    },
    {
      "cell_type": "code",
      "source": [
        "print(\"\\n=== SUMMARY OF FINDINGS ===\")\n",
        "print(\"1. Email Campaign Performance:\")\n",
        "print(f\"   - Open Rate: {open_rate:.2f}%\")\n",
        "print(f\"   - Click Rate: {click_rate:.2f}%\")\n",
        "print(f\"   - Click-to-Open Rate: {click_to_open_rate:.2f}%\")\n",
        "\n",
        "print(\"\\n3. Model Results:\")\n",
        "print(f\"   - Best model: Gradient Boosting with AUC of {roc_auc_score(y_test, y_pred_proba):.4f}\")\n",
        "print(f\"   - Expected improvement in click rate: {((expected_click_rate - baseline_click_rate) / baseline_click_rate * 100):.2f}%\")\n",
        "\n",
        "print(\"\\n4. Recommendations:\")\n",
        "print(\"   - Implement personalized email targeting using the model\")\n",
        "print(\"   - Optimize sending times based on user segments\")\n",
        "print(\"   - Tailor email content length to user preferences\")\n",
        "print(\"   - Conduct an A/B test with sample size of at least\", sample_size, \"per group\")\n",
        "print(\"   - Develop specific strategies for high-value user segments\")"
      ],
      "metadata": {
        "colab": {
          "base_uri": "https://localhost:8080/"
        },
        "id": "CApUggwFjLiR",
        "outputId": "17724468-1aeb-49b7-c4cf-ddc31cb8a30d"
      },
      "execution_count": 51,
      "outputs": [
        {
          "output_type": "stream",
          "name": "stdout",
          "text": [
            "\n",
            "=== SUMMARY OF FINDINGS ===\n",
            "1. Email Campaign Performance:\n",
            "   - Open Rate: 10.35%\n",
            "   - Click Rate: 2.12%\n",
            "   - Click-to-Open Rate: 20.48%\n",
            "\n",
            "3. Model Results:\n",
            "   - Best model: Gradient Boosting with AUC of 0.7466\n",
            "   - Expected improvement in click rate: 118.73%\n",
            "\n",
            "4. Recommendations:\n",
            "   - Implement personalized email targeting using the model\n",
            "   - Optimize sending times based on user segments\n",
            "   - Tailor email content length to user preferences\n",
            "   - Conduct an A/B test with sample size of at least 405 per group\n",
            "   - Develop specific strategies for high-value user segments\n"
          ]
        }
      ]
    }
  ]
}